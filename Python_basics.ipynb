{
  "nbformat": 4,
  "nbformat_minor": 0,
  "metadata": {
    "colab": {
      "provenance": []
    },
    "kernelspec": {
      "name": "python3",
      "display_name": "Python 3"
    },
    "language_info": {
      "name": "python"
    }
  },
  "cells": [
    {
      "cell_type": "markdown",
      "source": [
        "#PYTHON\n",
        "\n"
      ],
      "metadata": {
        "id": "YDVEvlZIGkg_"
      }
    },
    {
      "cell_type": "markdown",
      "source": [],
      "metadata": {
        "id": "jf6XLLP4G_Se"
      }
    },
    {
      "cell_type": "markdown",
      "source": [],
      "metadata": {
        "id": "uV3Gbpl1djry"
      }
    },
    {
      "cell_type": "markdown",
      "source": [
        "**1) What is Python, and why is it popular?**\n",
        "\n",
        "**Ans)->** Python is a high-level, interpreted programming language known for its simplicity and readability, which makes it an excellent choice for both beginners and experienced developers. Created by Guido van Rossum and first released in 1991, Python has grown to become one of the most popular programming languages in the world. Its syntax is clean and easy to understand, resembling plain English, which allows developers to write and maintain code more efficiently. One of the key reasons for Python’s popularity is its versatility—it is widely used in various fields including web development, data science, machine learning, automation, game development, and cybersecurity. Python also comes with a large standard library and an extensive ecosystem of third-party packages, allowing users to tackle a broad range of tasks with minimal additional setup. Furthermore, its strong and supportive community provides countless resources, tutorials, and libraries that help users solve problems and innovate quickly. Because it is cross-platform, Python works seamlessly across different operating systems, and it’s especially well-suited for rapid prototyping and iterative development. All of these factors contribute to Python’s widespread adoption and enduring popularity in the tech world.\n",
        "\n",
        "\n",
        "**2) What is an interpreter in Python?**\n",
        "\n",
        "**Ans)->**In Python, an interpreter is the program that reads and executes Python code line by line. Unlike compiled languages, where the entire code is transformed into machine language before running, Python uses an interpreter to translate code directly during execution. This means that when you write a Python script and run it, the interpreter processes each line of code one at a time, converting it into machine instructions that your computer can understand and execute immediately. This approach makes Python highly interactive and ideal for rapid development and testing, as you can quickly see the results of your code and make adjustments as needed. Python’s default interpreter is called CPython, but there are other versions like PyPy (which focuses on speed), Jython (for running Python on the Java platform), and IronPython (for .NET environments). The interpreter plays a crucial role in Python's functionality, enabling dynamic execution, flexibility, and ease of use across various platforms and applications.\n",
        "\n",
        "\n",
        "\n",
        "**3) What are pre-defined keywords in Python?**\n",
        "\n",
        "**Ans)->** Pre-defined keywords in Python are special reserved words that have specific meanings and purposes within the language. These keywords are part of Python's syntax and cannot be used as identifiers, such as variable names, function names, or class names. They help define the structure and flow of a Python program by representing common programming concepts like conditional statements, loops, functions, and class definitions. Examples of Python keywords include if, else, while, for, def, class, return, import, try, and except, among others. Since these words are recognized by the Python interpreter as part of the language's grammar, using them incorrectly—such as trying to name a variable if—will result in a syntax error. Python currently has around 35 keywords, and they are consistent across platforms, making code more readable and standardized. These keywords serve as the building blocks of any Python program, guiding how it operates and interacts with data.\n",
        "\n",
        "**4)Can keywords be used as variable names?**\n",
        "\n",
        "**Ans)->** No, keywords cannot be used as variable names in Python.\n",
        "\n",
        "\n",
        "**5)What is mutability in Python?**\n",
        "\n",
        "**Ans)->** Mutability in Python refers to whether or not an object’s value can be changed after it is created. If an object is mutable, it means you can modify its content without changing its identity (memory address). Examples of mutable types in Python include lists, dictionaries, and sets—you can add, remove, or change elements in these objects.\n",
        "\n",
        "On the other hand, immutable objects cannot be changed once they are created. Common immutable types include integers, floats, strings, and tuples. If you try to modify them, Python will create a new object instead.\n",
        "\n",
        "Understanding mutability is important because it affects how variables behave when passed to functions or assigned to other variables—it determines whether changes affect the original object or just a copy.\n",
        "\n",
        "\n",
        "**6) Why are lists mutable, but tuples are immutable?**\n",
        "\n",
        "**Ans)->**Lists are mutable in Python because they are designed to be flexible collections that can change over time. You can add, remove, or change elements in a list after it is created, which makes them ideal for storing data that may need to be updated, such as user input, growing datasets, or changing values. Python allows this behavior by letting lists manage their internal structure dynamically in memory.\n",
        "\n",
        "Tuples, on the other hand, are immutable by design. Once a tuple is created, its elements cannot be changed, added, or removed. This immutability makes tuples more memory-efficient and faster for certain operations. It also ensures that the data remains constant, which is useful when you need to store fixed sets of values, such as coordinates or configuration settings. Additionally, because they can’t change, tuples can be used as keys in dictionaries (whereas lists cannot).\n",
        "So, the difference in mutability between lists and tuples is intentional, based on their typical use cases: lists for changeable collections and tuples for fixed, unchangeable ones.\n",
        "\n",
        "\n",
        "**7) What is the difference between “==” and “is” operators in Python?**\n",
        "\n",
        "**Ans)->** In Python, the == and is operators are used for comparison, but they serve different purposes. The == operator checks for equality, meaning it evaluates whether the values of two objects are the same. It compares the contents or data stored within the objects, regardless of whether they are stored in the same location in memory. For example, two lists with identical elements will be considered equal using ==, even if they are different objects in memory. On the other hand, the is operator checks for identity, meaning it evaluates whether two variables point to the same object in memory. It compares the memory addresses of the objects, not their values. So, two distinct objects with the same value would not be considered identical by is, even though they are equal by ==. In summary, == is used to compare values, while is is used to compare object identities.\n",
        "\n",
        "\n",
        "**8) What are logical operators in Python?**\n",
        "\n",
        "**Ans)->**Logical operators are used to combine multiple conditional expressions and return a Boolean result (True or False). The three primary logical operators are and, or, and not. The and operator returns True only if both conditions being compared are true, making it useful when you need to ensure that multiple conditions are met. The or operator, on the other hand, returns True if at least one of the conditions is true, which is helpful when any of several conditions can be satisfied. The not operator is used to reverse the Boolean value of a condition—if a condition is true, not makes it false, and if it's false, not makes it true. These logical operators are commonly used in control flow statements like if, while, and for loops, allowing more complex decision-making in Python programs.\n",
        "\n",
        "\n",
        "\n",
        "**9) What is type casting in Python?**\n",
        "**Ans)->** Type casting in Python is the process of converting one data type into another. This is often necessary when performing operations on different data types, as Python does not automatically assume you want to combine them in certain ways. There are two main types of type casting: implicit and explicit. Implicit type casting, also known as type coercion, happens automatically when Python converts a smaller data type to a larger one. For example, adding an integer to a float will automatically convert the integer to a float. On the other hand, explicit type casting requires the programmer to use functions like int(), float(), or str() to manually convert between data types. For instance, converting a string that contains a number to an integer would require the int() function. Type casting is essential for ensuring data is in the correct format for operations, comparisons, and storage, allowing for greater flexibility and control over how data is handled in Python.\n",
        "\n",
        "\n",
        "\n",
        "**10) What is the difference between implicit and explicit type casting?**\n",
        "\n",
        "**Ans)->** The difference between implicit and explicit type casting in Python lies in how and when the type conversion occurs. Implicit type casting, also known as type coercion, happens automatically when Python converts a smaller or more specific data type to a larger or more general one, typically during operations between different types. For example, when an integer is added to a float, Python automatically converts the integer to a float to ensure there’s no loss of precision in the result. This type of casting is handled by Python internally and requires no action from the programmer. In contrast, explicit type casting occurs when the programmer manually converts one data type into another using functions like int(), float(), or str(). This allows the programmer to control how the data is converted, such as converting a string to an integer or a float to an integer. While implicit casting is automatic and ensures that operations between different data types work seamlessly, explicit casting gives the programmer more control over data manipulation, making sure values are converted intentionally and appropriately.\n",
        "\n",
        "\n",
        "\n",
        "\n",
        "**11) What is the purpose of conditional statements in Python?**\n",
        "\n",
        "**Ans)->** The purpose of conditional statements in Python is to enable decision-making in programs by allowing the execution of specific blocks of code based on certain conditions. These statements evaluate expressions that return a Boolean value (True or False) and determine which set of instructions to execute accordingly. The most common conditional statements in Python are if, elif, and else. The if statement is used to check if a condition is true, and if so, it executes the associated block of code. The elif (short for \"else if\") allows for multiple conditions to be tested, while the else statement provides an alternative block of code to run if none of the previous conditions are true. Conditional statements are essential for controlling the flow of a program, enabling dynamic behavior based on input, calculations, or other factors. They are used in various applications, such as validating user input, making decisions in game logic, handling exceptions, and more, making programs flexible and responsive to different scenarios.\n",
        "\n",
        "\n",
        "\n",
        "**12) How does the elif statement work?**\n",
        "\n",
        "**Ans)->** The elif (short for \"else if\") statement in Python is used to check multiple conditions in sequence, providing an alternative option when the initial if condition is false. It follows an if statement and allows the programmer to test additional conditions without having to nest multiple if statements. When an if condition evaluates to False, Python checks the conditions in the elif statements one by one in the order they appear. If any of the elif conditions are true, the corresponding block of code will be executed, and the remaining conditions will be ignored. If none of the if or elif conditions are true, an optional else block can be used as a fallback to handle all other cases. The elif statement is useful for making decisions based on several possible conditions, making the code more readable and efficient compared to using multiple if statements.\n",
        "\n",
        "\n",
        "\n",
        "**13) What is the difference between for and while loops?**\n",
        "\n",
        "**Ans)->** The main difference between for and while loops in Python is how they control iteration. A for loop is used when the number of iterations is known, typically for iterating over a sequence (like a list or range). A while loop, on the other hand, continues as long as a specified condition is True, and is used when the number of iterations is not known in advance. In short, for loops are for fixed iterations, while while loops are for repeating code based on a condition.\n",
        "\n",
        "\n",
        "\n",
        "**14) Describe a scenario where a while loop is more suitable than a for loop.**\n",
        "\n",
        "**Ans)->** A while loop is more suitable than a for loop in scenarios where the number of iterations is not predetermined and depends on a condition that can change during execution. For example, consider a situation where you need to repeatedly ask a user for their input until they provide a valid response, such as entering a positive integer for their age. Since you don’t know how many attempts it will take for the user to enter a valid age, a while loop is ideal because it will continue to prompt the user until the condition (a valid age) is met. The loop’s execution is based on the validity of the input, not a fixed number of iterations, which makes the while loop the appropriate choice. A for loop, in contrast, is typically used when you know the number of iterations in advance or are iterating over a fixed sequence, making it less flexible for this kind of scenario.\n",
        "\n",
        "\n",
        "\n",
        "\n",
        "\n",
        "\n",
        "\n",
        "\n",
        "\n",
        "\n",
        "\n"
      ],
      "metadata": {
        "id": "u9pz_4KMbmXt"
      }
    },
    {
      "cell_type": "markdown",
      "source": [],
      "metadata": {
        "id": "I7vmY9KwG-eJ"
      }
    },
    {
      "cell_type": "code",
      "source": [
        "#1 Write a Python program to print \"Hello, World!\n",
        "\n",
        "print(\"Hello, World!\")\n"
      ],
      "metadata": {
        "colab": {
          "base_uri": "https://localhost:8080/"
        },
        "id": "hbIzdfA_mmqy",
        "outputId": "78f4330e-0b75-43b9-82d0-84ac0680c8ef"
      },
      "execution_count": 10,
      "outputs": [
        {
          "output_type": "stream",
          "name": "stdout",
          "text": [
            "Hello, World!\n"
          ]
        }
      ]
    },
    {
      "cell_type": "code",
      "source": [
        "#2  Write a Python program that displays your name and age.\n",
        "\n",
        "name = \"Ayush Kumar Tanwar\"\n",
        "age = 24\n",
        "\n",
        "print(\"Name:\", name)\n",
        "print(\"Age:\", age)"
      ],
      "metadata": {
        "colab": {
          "base_uri": "https://localhost:8080/"
        },
        "id": "e8ZxpFIjwKWH",
        "outputId": "3390aeb0-5bae-4953-9b01-b470e7c9ec48"
      },
      "execution_count": 11,
      "outputs": [
        {
          "output_type": "stream",
          "name": "stdout",
          "text": [
            "Name: Ayush Kumar Tanwar\n",
            "Age: 24\n"
          ]
        }
      ]
    },
    {
      "cell_type": "code",
      "source": [
        "#3  Write code to print all the pre-defined keywords in Python using the keyword library\n",
        "\n",
        "import keyword\n",
        "\n",
        "print(\"Python Keywords:\")\n",
        "print(keyword.kwlist)"
      ],
      "metadata": {
        "colab": {
          "base_uri": "https://localhost:8080/"
        },
        "id": "413sxpb7wxT8",
        "outputId": "0efa9f72-e5b6-4b08-a3fa-84e2669bff37"
      },
      "execution_count": 13,
      "outputs": [
        {
          "output_type": "stream",
          "name": "stdout",
          "text": [
            "Python Keywords:\n",
            "['False', 'None', 'True', 'and', 'as', 'assert', 'async', 'await', 'break', 'class', 'continue', 'def', 'del', 'elif', 'else', 'except', 'finally', 'for', 'from', 'global', 'if', 'import', 'in', 'is', 'lambda', 'nonlocal', 'not', 'or', 'pass', 'raise', 'return', 'try', 'while', 'with', 'yield']\n"
          ]
        }
      ]
    },
    {
      "cell_type": "code",
      "source": [
        "#4  Write a program that checks if a given word is a Python keyword.\n",
        "\n",
        "import keyword\n",
        "word = input(\"Enter a word to check if it's a Python keyword: \")\n",
        "if keyword.iskeyword(word):\n",
        "    print(f\"'{word}' is a Python keyword.\")\n",
        "else:\n",
        "    print(f\"'{word}' is NOT a Python keyword.\")\n",
        "\n"
      ],
      "metadata": {
        "colab": {
          "base_uri": "https://localhost:8080/"
        },
        "id": "rWtaqsZSw-dG",
        "outputId": "a27e9c45-a601-4b42-a712-837d24cd9ae8"
      },
      "execution_count": 16,
      "outputs": [
        {
          "output_type": "stream",
          "name": "stdout",
          "text": [
            "Enter a word to check if it's a Python keyword: assert\n",
            "'assert' is a Python keyword.\n"
          ]
        }
      ]
    },
    {
      "cell_type": "code",
      "source": [
        "#5 Create a list and tuple in Python, and demonstrate how attempting to change an element works differently for each\n",
        "\n",
        "\n",
        "my_list = [1, 2, 3]\n",
        "my_tuple = (1, 2, 3)\n",
        "\n",
        "\n",
        "print(\"Original list:\", my_list)\n",
        "my_list[0] = 10\n",
        "print(\"Modified list:\", my_list)\n",
        "\n",
        "print(\"\\nOriginal tuple:\", my_tuple)\n",
        "try:\n",
        "    my_tuple[0] = 10\n",
        "except TypeError as e:\n",
        "    print(\"Error when modifying tuple:\", e)"
      ],
      "metadata": {
        "colab": {
          "base_uri": "https://localhost:8080/"
        },
        "id": "v_9ZgPWlx55e",
        "outputId": "48babbf6-163a-4177-d986-df6eb5355d34"
      },
      "execution_count": 19,
      "outputs": [
        {
          "output_type": "stream",
          "name": "stdout",
          "text": [
            "Original list: [1, 2, 3]\n",
            "Modified list: [10, 2, 3]\n",
            "\n",
            "Original tuple: (1, 2, 3)\n",
            "Error when modifying tuple: 'tuple' object does not support item assignment\n"
          ]
        }
      ]
    },
    {
      "cell_type": "code",
      "source": [
        "#6 Write a function to demonstrate the behavior of mutable and immutable arguments\n",
        "\n",
        "def modify_values(immutable_arg, mutable_arg):\n",
        "    print(\"\\nInside function:\")\n",
        "    print(\"Before modification - immutable_arg:\", immutable_arg, \"| mutable_arg:\", mutable_arg)\n",
        "\n",
        "\n",
        "    immutable_arg += 10\n",
        "\n",
        "\n",
        "    mutable_arg.append(100)\n",
        "\n",
        "    print(\"After modification - immutable_arg:\", immutable_arg, \"| mutable_arg:\", mutable_arg)\n",
        "\n",
        "\n",
        "x = 5\n",
        "y = [1, 2, 3]\n",
        "\n",
        "print(\"Before function call:\")\n",
        "print(\"x =\", x)\n",
        "print(\"y =\", y)\n",
        "\n",
        "modify_values(x, y)\n",
        "\n",
        "print(\"\\nAfter function call:\")\n",
        "print(\"x =\", x)\n",
        "print(\"y =\", y)"
      ],
      "metadata": {
        "colab": {
          "base_uri": "https://localhost:8080/"
        },
        "id": "n4VhiSbbyw4u",
        "outputId": "b1820e01-a892-41ac-81cf-1be0c18a4d01"
      },
      "execution_count": 20,
      "outputs": [
        {
          "output_type": "stream",
          "name": "stdout",
          "text": [
            "Before function call:\n",
            "x = 5\n",
            "y = [1, 2, 3]\n",
            "\n",
            "Inside function:\n",
            "Before modification - immutable_arg: 5 | mutable_arg: [1, 2, 3]\n",
            "After modification - immutable_arg: 15 | mutable_arg: [1, 2, 3, 100]\n",
            "\n",
            "After function call:\n",
            "x = 5\n",
            "y = [1, 2, 3, 100]\n"
          ]
        }
      ]
    },
    {
      "cell_type": "code",
      "source": [
        "#7 Write a program that performs basic arithmetic operations on two user-input numbers.\n",
        "\n",
        "num1 = float(input(\"Enter the first number: \"))\n",
        "num2 = float(input(\"Enter the second number: \"))\n",
        "\n",
        "\n",
        "addition = num1 + num2\n",
        "subtraction = num1 - num2\n",
        "multiplication = num1 * num2\n",
        "\n",
        "if num2 != 0:\n",
        "    division = num1 / num2\n",
        "else:\n",
        "    division = \"Undefined (cannot divide by zero)\"\n",
        "\n",
        "print(\"\\nResults:\")\n",
        "print(\"Addition:\", addition)\n",
        "print(\"Subtraction:\", subtraction)\n",
        "print(\"Multiplication:\", multiplication)\n",
        "print(\"Division:\", division)"
      ],
      "metadata": {
        "colab": {
          "base_uri": "https://localhost:8080/"
        },
        "id": "MXAWP0_Nzglv",
        "outputId": "05d0e621-eb5a-424c-f421-ffa54217b2c1"
      },
      "execution_count": 24,
      "outputs": [
        {
          "output_type": "stream",
          "name": "stdout",
          "text": [
            "Enter the first number: 123\n",
            "Enter the second number: 45\n",
            "\n",
            "Results:\n",
            "Addition: 168.0\n",
            "Subtraction: 78.0\n",
            "Multiplication: 5535.0\n",
            "Division: 2.7333333333333334\n"
          ]
        }
      ]
    },
    {
      "cell_type": "code",
      "source": [
        "#8  Write a program to demonstrate the use of logical operators.\n",
        "\n",
        "x = int(input(\"Enter a number for x: \"))\n",
        "y = int(input(\"Enter a number for y: \"))\n",
        "\n",
        "if x > 0 and y > 0:\n",
        "    print(\"Both x and y are positive numbers.\")\n",
        "else:\n",
        "    print(\"At least one of x or y is not positive.\")\n",
        "\n",
        "if x > 0 or y > 0:\n",
        "    print(\"At least one of x or y is a positive number.\")\n",
        "else:\n",
        "    print(\"Neither x nor y is positive.\")\n",
        "\n",
        "if not (x == y):\n",
        "    print(\"x and y are not equal.\")\n",
        "else:\n",
        "    print(\"x and y are equal.\")"
      ],
      "metadata": {
        "colab": {
          "base_uri": "https://localhost:8080/"
        },
        "id": "4Cl9dEof0Jvr",
        "outputId": "a355445b-768b-48b3-926a-8c0026bb670a"
      },
      "execution_count": 23,
      "outputs": [
        {
          "output_type": "stream",
          "name": "stdout",
          "text": [
            "Enter a number for x: 56\n",
            "Enter a number for y: 56\n",
            "Both x and y are positive numbers.\n",
            "At least one of x or y is a positive number.\n",
            "x and y are equal.\n"
          ]
        }
      ]
    },
    {
      "cell_type": "code",
      "source": [
        "#9  Write a Python program to convert user input from string to integer, float, and boolean types\n",
        "\n",
        "user_input = input(\"Enter a value: \")\n",
        "\n",
        "try:\n",
        "    integer_value = int(user_input)\n",
        "    print(f\"Converted to integer: {integer_value}\")\n",
        "except ValueError:\n",
        "    print(\"Cannot convert to integer.\")\n",
        "\n",
        "try:\n",
        "    float_value = float(user_input)\n",
        "    print(f\"Converted to float: {float_value}\")\n",
        "except ValueError:\n",
        "    print(\"Cannot convert to float.\")\n",
        "\n",
        "\n",
        "boolean_value = bool(user_input)\n",
        "print(f\"Converted to boolean: {boolean_value}\")"
      ],
      "metadata": {
        "colab": {
          "base_uri": "https://localhost:8080/"
        },
        "id": "k6L2pIfL0wS0",
        "outputId": "73b49cbc-95f9-4f7b-910b-7aa0bd44868e"
      },
      "execution_count": 26,
      "outputs": [
        {
          "output_type": "stream",
          "name": "stdout",
          "text": [
            "Enter a value: 123\n",
            "Converted to integer: 123\n",
            "Converted to float: 123.0\n",
            "Converted to boolean: True\n"
          ]
        }
      ]
    },
    {
      "cell_type": "code",
      "source": [
        "#10 Write code to demonstrate type casting with list elements.\n",
        "\n",
        "str_list = [\"1\", \"2.5\", \"True\", \"3\", \"False\", \"4.7\"]\n",
        "\n",
        "int_list = [int(float(x)) if x.replace('.', '', 1).isdigit() else 0 for x in str_list]\n",
        "\n",
        "float_list = [float(x) if x.replace('.', '', 1).isdigit() else 0.0 for x in str_list]\n",
        "\n",
        "bool_list = [True if x.lower() == \"true\" else False for x in str_list]\n",
        "\n",
        "print(\"Original list:\", str_list)\n",
        "print(\"List after converting to integers:\", int_list)\n",
        "print(\"List after converting to floats:\", float_list)\n",
        "print(\"List after converting to booleans:\", bool_list)\n"
      ],
      "metadata": {
        "colab": {
          "base_uri": "https://localhost:8080/"
        },
        "id": "KJ5LARfE1hGo",
        "outputId": "ca9cfaa4-2130-4b2d-a25e-4c32f95c81dd"
      },
      "execution_count": 29,
      "outputs": [
        {
          "output_type": "stream",
          "name": "stdout",
          "text": [
            "Original list: ['1', '2.5', 'True', '3', 'False', '4.7']\n",
            "List after converting to integers: [1, 2, 0, 3, 0, 4]\n",
            "List after converting to floats: [1.0, 2.5, 0.0, 3.0, 0.0, 4.7]\n",
            "List after converting to booleans: [False, False, True, False, False, False]\n"
          ]
        }
      ]
    },
    {
      "cell_type": "code",
      "source": [
        "#11 Write a program that checks if a number is positive, negative, or zero\n",
        "\n",
        "num = float(input(\"Enter a number: \"))\n",
        "\n",
        "if num > 0:\n",
        "    print(f\"{num} is a positive number.\")\n",
        "elif num < 0:\n",
        "    print(f\"{num} is a negative number.\")\n",
        "else:\n",
        "    print(f\"{num} is zero.\")"
      ],
      "metadata": {
        "colab": {
          "base_uri": "https://localhost:8080/"
        },
        "id": "DvqAF3DF2TXv",
        "outputId": "7be0bdd7-e6af-4ba2-fbb5-0ef1fc9b8e94"
      },
      "execution_count": 30,
      "outputs": [
        {
          "output_type": "stream",
          "name": "stdout",
          "text": [
            "Enter a number: 56\n",
            "56.0 is a positive number.\n"
          ]
        }
      ]
    },
    {
      "cell_type": "code",
      "source": [
        "#12 Write a for loop to print numbers from 1 to 10\n",
        "\n",
        "for num in range(1, 11):\n",
        "    print(num)"
      ],
      "metadata": {
        "colab": {
          "base_uri": "https://localhost:8080/"
        },
        "id": "wbmNtsgW2x0F",
        "outputId": "857688a4-fd50-416b-ecc8-82d648270df5"
      },
      "execution_count": 31,
      "outputs": [
        {
          "output_type": "stream",
          "name": "stdout",
          "text": [
            "1\n",
            "2\n",
            "3\n",
            "4\n",
            "5\n",
            "6\n",
            "7\n",
            "8\n",
            "9\n",
            "10\n"
          ]
        }
      ]
    },
    {
      "cell_type": "code",
      "source": [
        "#13 Write a Python program to find the sum of all even numbers between 1 and 50\n",
        "\n",
        "sum_of_even_numbers = 0\n",
        "\n",
        "for num in range(1, 51):\n",
        "    if num % 2 == 0:\n",
        "        sum_of_even_numbers += num\n",
        "\n",
        "print(\"Sum of all even numbers between 1 and 50:\", sum_of_even_numbers)"
      ],
      "metadata": {
        "colab": {
          "base_uri": "https://localhost:8080/"
        },
        "id": "0S1RWy9F3JEW",
        "outputId": "2a9b7937-3aa9-449e-f955-84c6b7b9420e"
      },
      "execution_count": 32,
      "outputs": [
        {
          "output_type": "stream",
          "name": "stdout",
          "text": [
            "Sum of all even numbers between 1 and 50: 650\n"
          ]
        }
      ]
    },
    {
      "cell_type": "code",
      "source": [
        "#14 Write a program to reverse a string using a while loop.\n",
        "\n",
        "def reverse_string(input_string):\n",
        "    reversed_string = \"\"\n",
        "    index = len(input_string) - 1\n",
        "\n",
        "    while index >= 0:\n",
        "        reversed_string += input_string[index]\n",
        "        index -= 1\n",
        "\n",
        "    return reversed_string\n",
        "\n",
        "user_input = input(\"Enter a string: \")\n",
        "\n",
        "reversed_str = reverse_string(user_input)\n",
        "print(\"Reversed string:\", reversed_str)"
      ],
      "metadata": {
        "colab": {
          "base_uri": "https://localhost:8080/"
        },
        "id": "VHCbYgaS3iJc",
        "outputId": "91869dc8-497b-485b-be4d-7a3c88a46903"
      },
      "execution_count": 33,
      "outputs": [
        {
          "output_type": "stream",
          "name": "stdout",
          "text": [
            "Enter a string: Ayush\n",
            "Reversed string: hsuyA\n"
          ]
        }
      ]
    },
    {
      "cell_type": "code",
      "source": [
        "#15 Write a Python program to calculate the factorial of a number provided by the user using a while loop.\n",
        "\n",
        "def factorial(num):\n",
        "    result = 1\n",
        "    while num > 1:\n",
        "        result *= num\n",
        "        num -= 1\n",
        "    return result\n",
        "\n",
        "\n",
        "user_input = int(input(\"Enter a number to calculate its factorial: \"))\n",
        "\n",
        "if user_input < 0:\n",
        "    print(\"Factorial does not exist for negative numbers.\")\n",
        "else:\n",
        "\n",
        "    fact = factorial(user_input)\n",
        "    print(f\"The factorial of {user_input} is {fact}.\")"
      ],
      "metadata": {
        "colab": {
          "base_uri": "https://localhost:8080/"
        },
        "id": "3sKCwpVo36gA",
        "outputId": "29b194b7-48b0-4d57-f7d8-67b780bda3b6"
      },
      "execution_count": 34,
      "outputs": [
        {
          "output_type": "stream",
          "name": "stdout",
          "text": [
            "Enter a number to calculate its factorial: 5\n",
            "The factorial of 5 is 120.\n"
          ]
        }
      ]
    }
  ]
}